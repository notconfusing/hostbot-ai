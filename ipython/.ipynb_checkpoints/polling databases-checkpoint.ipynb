{
 "cells": [
  {
   "cell_type": "code",
   "execution_count": 2,
   "metadata": {},
   "outputs": [
    {
     "ename": "SyntaxError",
     "evalue": "invalid syntax (<ipython-input-2-ae3e7f7cfb78>, line 1)",
     "output_type": "error",
     "traceback": [
      "\u001b[0;36m  File \u001b[0;32m\"<ipython-input-2-ae3e7f7cfb78>\"\u001b[0;36m, line \u001b[0;32m1\u001b[0m\n\u001b[0;31m    Ways to get new users data:\u001b[0m\n\u001b[0m          ^\u001b[0m\n\u001b[0;31mSyntaxError\u001b[0m\u001b[0;31m:\u001b[0m invalid syntax\n"
     ]
    }
   ],
   "source": [
    "Ways to get new users data:\n",
    "    \n",
    "+  Logevents with API:\n",
    "    + https://phabricator.wikimedia.org/source/tool-newusers/browse/master/app.py\n",
    "+ database\n",
    "    + dev testing with ssh-tunnel"
   ]
  },
  {
   "cell_type": "code",
   "execution_count": 45,
   "metadata": {},
   "outputs": [],
   "source": [
    "import os\n",
    "import configparser\n",
    "import pymysql\n",
    "from sqlalchemy import create_engine\n",
    "from datetime import datetime as dt\n",
    "from datetime import timedelta as td\n",
    "import pandas as pd\n"
   ]
  },
  {
   "cell_type": "code",
   "execution_count": 58,
   "metadata": {},
   "outputs": [],
   "source": [
    "def load_con_from_config(config_file=None):\n",
    "    if config_file == None:\n",
    "        config_file = '../config/replica.my.cnf'\n",
    "    cnf = configparser.ConfigParser()\n",
    "    cnf.read_file(open(config_file, 'r'))\n",
    "    os.environ['MYSQL_USERNAME'] = cnf.get('client','user').replace(\"'\",\"\")\n",
    "    os.environ['MYSQL_PASSWORD'] = cnf.get('client','password').replace(\"'\",\"\")\n",
    "    os.environ['MYSQL_HOST'] = 'localhost'\n",
    "    os.environ['MYSQL_CATALOG'] = 'enwiki_p'\n",
    "\n",
    "    constr = 'mysql+pymysql://{user}:{pwd}@{host}/{catalog}?charset=utf8'.format(user=os.environ['MYSQL_USERNAME'],\n",
    "                                                          pwd=os.environ['MYSQL_PASSWORD'],\n",
    "                                                          host=os.environ['MYSQL_HOST'],\n",
    "                                                      catalog=os.environ['MYSQL_CATALOG'])\n",
    "    con = create_engine(constr, encoding='utf-8')\n",
    "    return con\n",
    "\n",
    "\n",
    "wmfdate_fmt = '%Y%m%d%H%M%S'\n",
    "\n",
    "def utf_8_decode(colstr):\n",
    "    return coltsr.decode('utf-8')\n",
    "\n",
    "def wmftimestamp(datestr):\n",
    "    decoded = utf_8_decode(datestr)\n",
    "    return dt.strptime(decoded, wmfdate_fmt)"
   ]
  },
  {
   "cell_type": "code",
   "execution_count": 60,
   "metadata": {},
   "outputs": [],
   "source": [
    "def get_new_users(con, days=1):\n",
    "    now = dt.utcnow()\n",
    "    days_ago = now - td(days=days)\n",
    "    days_ago_buffered = days_ago - td(hours=1)\n",
    "    min_time = days_ago_buffered.strftime(wmfdate_fmt)\n",
    "    new_user_query = f'''select user_id, user_name, user_registration, user_editcount from user where user_registration > {min_time} and user_editcount >= 3'''\n",
    "    print(new_user_query)\n",
    "    new_users = pd.read_sql(new_user_query, con)\n",
    "    new_users['user_name'] = new_users['user_name'].apply(utf_8_decode)\n",
    "    new_users['user_registration'] = new_users['user_registration'].apply(wmftimestamp)\n",
    "    return new_users"
   ]
  },
  {
   "cell_type": "code",
   "execution_count": null,
   "metadata": {},
   "outputs": [
    {
     "name": "stdout",
     "output_type": "stream",
     "text": [
      "select user_id, user_name, user_registration, user_editcount from user where user_registration > 20181209132642 and user_editcount > 3\n"
     ]
    }
   ],
   "source": [
    "con = load_con_from_config()\n",
    "new_users = get_new_users(con)"
   ]
  },
  {
   "cell_type": "code",
   "execution_count": 50,
   "metadata": {},
   "outputs": [
    {
     "data": {
      "text/plain": [
       "(487, 16)"
      ]
     },
     "execution_count": 50,
     "metadata": {},
     "output_type": "execute_result"
    }
   ],
   "source": [
    "new_users.shape"
   ]
  },
  {
   "cell_type": "code",
   "execution_count": 52,
   "metadata": {},
   "outputs": [],
   "source": []
  },
  {
   "cell_type": "code",
   "execution_count": 53,
   "metadata": {},
   "outputs": [
    {
     "data": {
      "text/html": [
       "<div>\n",
       "<style scoped>\n",
       "    .dataframe tbody tr th:only-of-type {\n",
       "        vertical-align: middle;\n",
       "    }\n",
       "\n",
       "    .dataframe tbody tr th {\n",
       "        vertical-align: top;\n",
       "    }\n",
       "\n",
       "    .dataframe thead th {\n",
       "        text-align: right;\n",
       "    }\n",
       "</style>\n",
       "<table border=\"1\" class=\"dataframe\">\n",
       "  <thead>\n",
       "    <tr style=\"text-align: right;\">\n",
       "      <th></th>\n",
       "      <th>user_id</th>\n",
       "      <th>user_name</th>\n",
       "      <th>user_real_name</th>\n",
       "      <th>user_password</th>\n",
       "      <th>user_newpassword</th>\n",
       "      <th>user_email</th>\n",
       "      <th>user_options</th>\n",
       "      <th>user_touched</th>\n",
       "      <th>user_token</th>\n",
       "      <th>user_email_authenticated</th>\n",
       "      <th>user_email_token</th>\n",
       "      <th>user_email_token_expires</th>\n",
       "      <th>user_registration</th>\n",
       "      <th>user_newpass_time</th>\n",
       "      <th>user_editcount</th>\n",
       "      <th>user_password_expires</th>\n",
       "    </tr>\n",
       "  </thead>\n",
       "  <tbody>\n",
       "    <tr>\n",
       "      <th>0</th>\n",
       "      <td>35334404</td>\n",
       "      <td>Alexalex123123</td>\n",
       "      <td>b''</td>\n",
       "      <td>None</td>\n",
       "      <td>None</td>\n",
       "      <td>None</td>\n",
       "      <td>None</td>\n",
       "      <td>None</td>\n",
       "      <td>None</td>\n",
       "      <td>None</td>\n",
       "      <td>None</td>\n",
       "      <td>None</td>\n",
       "      <td>b'20181208093607'</td>\n",
       "      <td>None</td>\n",
       "      <td>11</td>\n",
       "      <td>None</td>\n",
       "    </tr>\n",
       "    <tr>\n",
       "      <th>1</th>\n",
       "      <td>35334464</td>\n",
       "      <td>Sagarzilpe</td>\n",
       "      <td>b''</td>\n",
       "      <td>None</td>\n",
       "      <td>None</td>\n",
       "      <td>None</td>\n",
       "      <td>None</td>\n",
       "      <td>None</td>\n",
       "      <td>None</td>\n",
       "      <td>None</td>\n",
       "      <td>None</td>\n",
       "      <td>None</td>\n",
       "      <td>b'20181208094915'</td>\n",
       "      <td>None</td>\n",
       "      <td>5</td>\n",
       "      <td>None</td>\n",
       "    </tr>\n",
       "    <tr>\n",
       "      <th>2</th>\n",
       "      <td>35334487</td>\n",
       "      <td>Oxfordheart</td>\n",
       "      <td>b''</td>\n",
       "      <td>None</td>\n",
       "      <td>None</td>\n",
       "      <td>None</td>\n",
       "      <td>None</td>\n",
       "      <td>None</td>\n",
       "      <td>None</td>\n",
       "      <td>None</td>\n",
       "      <td>None</td>\n",
       "      <td>None</td>\n",
       "      <td>b'20181208095337'</td>\n",
       "      <td>None</td>\n",
       "      <td>6</td>\n",
       "      <td>None</td>\n",
       "    </tr>\n",
       "    <tr>\n",
       "      <th>3</th>\n",
       "      <td>35334490</td>\n",
       "      <td>Jhon maria</td>\n",
       "      <td>b''</td>\n",
       "      <td>None</td>\n",
       "      <td>None</td>\n",
       "      <td>None</td>\n",
       "      <td>None</td>\n",
       "      <td>None</td>\n",
       "      <td>None</td>\n",
       "      <td>None</td>\n",
       "      <td>None</td>\n",
       "      <td>None</td>\n",
       "      <td>b'20181208095411'</td>\n",
       "      <td>None</td>\n",
       "      <td>14</td>\n",
       "      <td>None</td>\n",
       "    </tr>\n",
       "    <tr>\n",
       "      <th>4</th>\n",
       "      <td>35334510</td>\n",
       "      <td>Safa2018</td>\n",
       "      <td>b''</td>\n",
       "      <td>None</td>\n",
       "      <td>None</td>\n",
       "      <td>None</td>\n",
       "      <td>None</td>\n",
       "      <td>None</td>\n",
       "      <td>None</td>\n",
       "      <td>None</td>\n",
       "      <td>None</td>\n",
       "      <td>None</td>\n",
       "      <td>b'20181208095812'</td>\n",
       "      <td>None</td>\n",
       "      <td>6</td>\n",
       "      <td>None</td>\n",
       "    </tr>\n",
       "  </tbody>\n",
       "</table>\n",
       "</div>"
      ],
      "text/plain": [
       "    user_id       user_name user_real_name user_password user_newpassword  \\\n",
       "0  35334404  Alexalex123123            b''          None             None   \n",
       "1  35334464      Sagarzilpe            b''          None             None   \n",
       "2  35334487     Oxfordheart            b''          None             None   \n",
       "3  35334490      Jhon maria            b''          None             None   \n",
       "4  35334510        Safa2018            b''          None             None   \n",
       "\n",
       "  user_email user_options user_touched user_token user_email_authenticated  \\\n",
       "0       None         None         None       None                     None   \n",
       "1       None         None         None       None                     None   \n",
       "2       None         None         None       None                     None   \n",
       "3       None         None         None       None                     None   \n",
       "4       None         None         None       None                     None   \n",
       "\n",
       "  user_email_token user_email_token_expires  user_registration  \\\n",
       "0             None                     None  b'20181208093607'   \n",
       "1             None                     None  b'20181208094915'   \n",
       "2             None                     None  b'20181208095337'   \n",
       "3             None                     None  b'20181208095411'   \n",
       "4             None                     None  b'20181208095812'   \n",
       "\n",
       "  user_newpass_time  user_editcount user_password_expires  \n",
       "0              None              11                  None  \n",
       "1              None               5                  None  \n",
       "2              None               6                  None  \n",
       "3              None              14                  None  \n",
       "4              None               6                  None  "
      ]
     },
     "execution_count": 53,
     "metadata": {},
     "output_type": "execute_result"
    }
   ],
   "source": [
    "new_users.head()"
   ]
  },
  {
   "cell_type": "code",
   "execution_count": null,
   "metadata": {},
   "outputs": [],
   "source": []
  }
 ],
 "metadata": {
  "kernelspec": {
   "display_name": "Python 3",
   "language": "python",
   "name": "python3"
  },
  "language_info": {
   "codemirror_mode": {
    "name": "ipython",
    "version": 3
   },
   "file_extension": ".py",
   "mimetype": "text/x-python",
   "name": "python",
   "nbconvert_exporter": "python",
   "pygments_lexer": "ipython3",
   "version": "3.6.5"
  }
 },
 "nbformat": 4,
 "nbformat_minor": 2
}
